{
 "cells": [
  {
   "cell_type": "code",
   "execution_count": null,
   "id": "e5ac38c0",
   "metadata": {},
   "outputs": [],
   "source": [
    "\"\"\"1.2 Write a function filter_long_words() that takes a list of words and an integer n and returns\n",
    "the list of words that are longer than n.\"\"\""
   ]
  },
  {
   "cell_type": "code",
   "execution_count": null,
   "id": "ef29bbaa",
   "metadata": {},
   "outputs": [],
   "source": [
    "def filter_long_words(l,n):\n",
    "    \"\"\"Return list of words that are longer than n\"\"\"\n",
    "    return l[n-1:]\n",
    "filter_long_words([\"a\",\"b\",\"c\",\"d\",\"e\"],3)"
   ]
  },
  {
   "cell_type": "code",
   "execution_count": null,
   "id": "e55271b1",
   "metadata": {},
   "outputs": [],
   "source": [
    "\"\"\"2.1 Write a Python program using function concept that maps list of words into a list of integers\n",
    "representing the lengths of the corresponding words.\"\"\""
   ]
  },
  {
   "cell_type": "code",
   "execution_count": null,
   "id": "9f72d287",
   "metadata": {},
   "outputs": [],
   "source": [
    "def len_of_words(l):\n",
    "    \"\"\"Returns the length of the corresponding words\"\"\"\n",
    "    wordslen = []\n",
    "    for x in l:\n",
    "        wordslen.append(len(x))\n",
    "    return wordslen\n",
    "len_of_words([\"maha\",\"sam\",\"gurusidd\",\"surki\"])"
   ]
  },
  {
   "cell_type": "code",
   "execution_count": null,
   "id": "6ea7cdd8",
   "metadata": {},
   "outputs": [],
   "source": [
    "\"\"\"2.2 Write a Python function which takes a character (i.e. a string of length 1) and returns True if\n",
    "it is a vowel, False otherwise.\"\"\""
   ]
  },
  {
   "cell_type": "code",
   "execution_count": 4,
   "id": "97d17f90",
   "metadata": {},
   "outputs": [
    {
     "data": {
      "text/plain": [
       "False"
      ]
     },
     "execution_count": 4,
     "metadata": {},
     "output_type": "execute_result"
    }
   ],
   "source": [
    "def check_Vowel(a):\n",
    "    \"\"\"Check the given character is vowel or not\"\"\"\n",
    "    if a.upper() == \"A\" or a.upper() == \"E\" or a.upper() == \"I\" or a.upper() == \"O\" or a.upper() == \"U\":\n",
    "        return True\n",
    "    else :\n",
    "        return False\n",
    "check_Vowel(\"b\")"
   ]
  },
  {
   "cell_type": "code",
   "execution_count": null,
   "id": "65a099a8",
   "metadata": {},
   "outputs": [],
   "source": []
  }
 ],
 "metadata": {
  "kernelspec": {
   "display_name": "Python 3",
   "language": "python",
   "name": "python3"
  },
  "language_info": {
   "codemirror_mode": {
    "name": "ipython",
    "version": 3
   },
   "file_extension": ".py",
   "mimetype": "text/x-python",
   "name": "python",
   "nbconvert_exporter": "python",
   "pygments_lexer": "ipython3",
   "version": "3.8.8"
  }
 },
 "nbformat": 4,
 "nbformat_minor": 5
}
