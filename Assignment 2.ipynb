{
 "cells": [
  {
   "cell_type": "code",
   "execution_count": null,
   "id": "6afff905",
   "metadata": {},
   "outputs": [],
   "source": [
    "#1. Create the below pattern using nested for loop in Python."
   ]
  },
  {
   "cell_type": "code",
   "execution_count": null,
   "id": "2c6c92cf",
   "metadata": {
    "scrolled": true
   },
   "outputs": [],
   "source": [
    "intCounter = 1\n",
    "intTempCounter = 1\n",
    "StrPattern = \"\"\n",
    "#StrPattern1 = \"\"\n",
    "while intCounter <=5:\n",
    "    #print(str(intCounter))\n",
    "    if intCounter!=1:\n",
    "        StrPattern = StrPattern+\"\\n\"\n",
    "    #StrPattern =StrPattern+\"\\n\"\n",
    "    while intTempCounter<intCounter:\n",
    "        StrPattern=StrPattern+\"*\"\n",
    "       # print(StrPattern)\n",
    "        intTempCounter=intTempCounter+1\n",
    "        #print(str(intTempCounter))\n",
    "    intCounter =intCounter +1\n",
    "    intTempCounter =1\n",
    "#print(StrPattern)\n",
    "#print(str(intCounter-2))\n",
    "while (intCounter-1) >=0:\n",
    "    StrPattern = StrPattern+\"\\n\"\n",
    "    while intTempCounter<=(intCounter-1):\n",
    "       # print(\"in loop\")\n",
    "        StrPattern = StrPattern+\"*\"\n",
    "        intTempCounter = intTempCounter+1\n",
    "    #StrPattern = StrPattern+\"\\n\"\n",
    "    intCounter=intCounter-1\n",
    "    intTempCounter = 1\n",
    "print(StrPattern)"
   ]
  },
  {
   "cell_type": "code",
   "execution_count": null,
   "id": "27d7774d",
   "metadata": {},
   "outputs": [],
   "source": [
    "#2. Write a Python program to reverse a word after accepting the input from the user."
   ]
  },
  {
   "cell_type": "code",
   "execution_count": null,
   "id": "9ae7cc74",
   "metadata": {},
   "outputs": [],
   "source": [
    "StrName = input(\"Enter the text here to reverse\")\n",
    "print(StrName[::-1])"
   ]
  }
 ],
 "metadata": {
  "kernelspec": {
   "display_name": "Python 3",
   "language": "python",
   "name": "python3"
  },
  "language_info": {
   "codemirror_mode": {
    "name": "ipython",
    "version": 3
   },
   "file_extension": ".py",
   "mimetype": "text/x-python",
   "name": "python",
   "nbconvert_exporter": "python",
   "pygments_lexer": "ipython3",
   "version": "3.8.8"
  }
 },
 "nbformat": 4,
 "nbformat_minor": 5
}
