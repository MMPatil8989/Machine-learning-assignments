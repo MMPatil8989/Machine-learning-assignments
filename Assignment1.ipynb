{
 "cells": [
  {
   "cell_type": "code",
   "execution_count": null,
   "id": "cc780888",
   "metadata": {},
   "outputs": [],
   "source": [
    "#1. Write a program which will find all such numbers which are divisible by 7 but not multiple of 5"
   ]
  },
  {
   "cell_type": "code",
   "execution_count": null,
   "id": "21890913",
   "metadata": {},
   "outputs": [],
   "source": [
    "StrResult=\"\"\n",
    "for x in range(2000,3201):\n",
    "    if x%7==0 and x%5!=0:\n",
    "       StrResult = str(x)+\",\"+StrResult\n",
    "print(StrResult)"
   ]
  },
  {
   "cell_type": "code",
   "execution_count": null,
   "id": "ef1576a4",
   "metadata": {},
   "outputs": [],
   "source": [
    "#2.Accept the users first name and last name\n",
    "#print full name in the reverse order"
   ]
  },
  {
   "cell_type": "code",
   "execution_count": null,
   "id": "58f6c91f",
   "metadata": {},
   "outputs": [],
   "source": [
    "StrFName = input(\"First Name : \")\n",
    "StrLName = input (\"Last Name : \")\n",
    "StrFullName = StrFName[::-1]+\" \"+StrLName[::-1]\n",
    "print(\"Full Name : \"+StrFullName)"
   ]
  },
  {
   "cell_type": "code",
   "execution_count": null,
   "id": "6852b1b1",
   "metadata": {},
   "outputs": [],
   "source": [
    "#3. To find the volume of the spere with diameter 12 CM"
   ]
  },
  {
   "cell_type": "code",
   "execution_count": null,
   "id": "2c2b519f",
   "metadata": {},
   "outputs": [],
   "source": [
    "intdiameter = 12\n",
    "intradius = intdiameter/2\n",
    "volumeofsphere = (4/3)*3.142*pow(intradius,3)\n",
    "print(\"Volume of sphere \"+ str(volumeofsphere))"
   ]
  },
  {
   "cell_type": "code",
   "execution_count": null,
   "id": "6274f8df",
   "metadata": {},
   "outputs": [],
   "source": []
  }
 ],
 "metadata": {
  "kernelspec": {
   "display_name": "Python 3",
   "language": "python",
   "name": "python3"
  },
  "language_info": {
   "codemirror_mode": {
    "name": "ipython",
    "version": 3
   },
   "file_extension": ".py",
   "mimetype": "text/x-python",
   "name": "python",
   "nbconvert_exporter": "python",
   "pygments_lexer": "ipython3",
   "version": "3.8.8"
  }
 },
 "nbformat": 4,
 "nbformat_minor": 5
}
